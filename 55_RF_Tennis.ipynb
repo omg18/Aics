{
 "cells": [
  {
   "cell_type": "markdown",
   "id": "626e4a48-d9fe-4e34-a6ea-a8b4e3505553",
   "metadata": {},
   "source": [
    "\n",
    "# Practical 4"
   ]
  },
  {
   "cell_type": "markdown",
   "id": "86f68b59-5566-451d-b031-fd4d61e19e42",
   "metadata": {},
   "source": [
    "# Random forest Part 2"
   ]
  },
  {
   "cell_type": "markdown",
   "id": "4d4a23cd-13f9-4228-acd6-135826a63439",
   "metadata": {},
   "source": [
    "# Name- Om Gatlewar\n",
    "# Roll No-55"
   ]
  },
  {
   "cell_type": "code",
   "execution_count": 1,
   "id": "6804689e",
   "metadata": {},
   "outputs": [],
   "source": [
    "import pandas as pd \n",
    "from sklearn.ensemble import RandomForestClassifier\n",
    "from sklearn.model_selection import train_test_split\n",
    "from sklearn import tree\n",
    "from sklearn import metrics\n",
    "import matplotlib.pyplot as plt\n",
    "from sklearn.metrics import confusion_matrix\n",
    "from sklearn.metrics import classification_report"
   ]
  },
  {
   "cell_type": "code",
   "execution_count": 2,
   "id": "7da3941f",
   "metadata": {},
   "outputs": [
    {
     "name": "stdout",
     "output_type": "stream",
     "text": [
      "     outlook  temp humidity  windy play\n",
      "0      sunny   hot     high  False   no\n",
      "1      sunny   hot     high   True   no\n",
      "2   overcast   hot     high  False  yes\n",
      "3      rainy  mild     high  False  yes\n",
      "4      rainy  cool   normal  False  yes\n",
      "5      rainy  cool   normal   True   no\n",
      "6   overcast  cool   normal   True  yes\n",
      "7      sunny  mild     high  False   no\n",
      "8      sunny  cool   normal  False  yes\n",
      "9      rainy  mild   normal  False  yes\n",
      "10     sunny  mild   normal   True  yes\n",
      "11  overcast  mild     high   True  yes\n",
      "12  overcast   hot   normal  False  yes\n",
      "13     rainy  mild     high   True   no\n"
     ]
    }
   ],
   "source": [
    "d1=pd.read_csv('tennis.csv')\n",
    "print(d1)\n"
   ]
  },
  {
   "cell_type": "code",
   "execution_count": 3,
   "id": "93b6afcb",
   "metadata": {},
   "outputs": [
    {
     "name": "stdout",
     "output_type": "stream",
     "text": [
      "<class 'pandas.core.frame.DataFrame'>\n",
      "RangeIndex: 14 entries, 0 to 13\n",
      "Data columns (total 5 columns):\n",
      " #   Column    Non-Null Count  Dtype \n",
      "---  ------    --------------  ----- \n",
      " 0   outlook   14 non-null     object\n",
      " 1   temp      14 non-null     object\n",
      " 2   humidity  14 non-null     object\n",
      " 3   windy     14 non-null     bool  \n",
      " 4   play      14 non-null     object\n",
      "dtypes: bool(1), object(4)\n",
      "memory usage: 590.0+ bytes\n"
     ]
    }
   ],
   "source": [
    "d1.info()"
   ]
  },
  {
   "cell_type": "code",
   "execution_count": 4,
   "id": "c6b62240",
   "metadata": {},
   "outputs": [
    {
     "name": "stdout",
     "output_type": "stream",
     "text": [
      "    outlook  temp  humidity  windy  play\n",
      "0         2     1         0      0     0\n",
      "1         2     1         0      1     0\n",
      "2         0     1         0      0     1\n",
      "3         1     2         0      0     1\n",
      "4         1     0         1      0     1\n",
      "5         1     0         1      1     0\n",
      "6         0     0         1      1     1\n",
      "7         2     2         0      0     0\n",
      "8         2     0         1      0     1\n",
      "9         1     2         1      0     1\n",
      "10        2     2         1      1     1\n",
      "11        0     2         0      1     1\n",
      "12        0     1         1      0     1\n",
      "13        1     2         0      1     0\n",
      "<class 'pandas.core.frame.DataFrame'>\n",
      "RangeIndex: 14 entries, 0 to 13\n",
      "Data columns (total 5 columns):\n",
      " #   Column    Non-Null Count  Dtype\n",
      "---  ------    --------------  -----\n",
      " 0   outlook   14 non-null     int32\n",
      " 1   temp      14 non-null     int32\n",
      " 2   humidity  14 non-null     int32\n",
      " 3   windy     14 non-null     int64\n",
      " 4   play      14 non-null     int32\n",
      "dtypes: int32(4), int64(1)\n",
      "memory usage: 464.0 bytes\n"
     ]
    },
    {
     "name": "stderr",
     "output_type": "stream",
     "text": [
      "C:\\Users\\ankus\\AppData\\Local\\Temp\\ipykernel_19204\\1076206382.py:3: DeprecationWarning: In a future version, `df.iloc[:, i] = newvals` will attempt to set the values inplace instead of always setting a new array. To retain the old behavior, use either `df[df.columns[i]] = newvals` or, if columns are non-unique, `df.isetitem(i, newvals)`\n",
      "  d1.iloc[:,0] = le.fit_transform(d1.iloc[:,0]) # outlook column - index no. 0- will encode outlook column\n",
      "C:\\Users\\ankus\\AppData\\Local\\Temp\\ipykernel_19204\\1076206382.py:4: DeprecationWarning: In a future version, `df.iloc[:, i] = newvals` will attempt to set the values inplace instead of always setting a new array. To retain the old behavior, use either `df[df.columns[i]] = newvals` or, if columns are non-unique, `df.isetitem(i, newvals)`\n",
      "  d1.iloc[:,1] = le.fit_transform(d1.iloc[:,1]) # temp\n",
      "C:\\Users\\ankus\\AppData\\Local\\Temp\\ipykernel_19204\\1076206382.py:5: DeprecationWarning: In a future version, `df.iloc[:, i] = newvals` will attempt to set the values inplace instead of always setting a new array. To retain the old behavior, use either `df[df.columns[i]] = newvals` or, if columns are non-unique, `df.isetitem(i, newvals)`\n",
      "  d1.iloc[:,2] = le.fit_transform(d1.iloc[:,2]) # humidity\n",
      "C:\\Users\\ankus\\AppData\\Local\\Temp\\ipykernel_19204\\1076206382.py:7: DeprecationWarning: In a future version, `df.iloc[:, i] = newvals` will attempt to set the values inplace instead of always setting a new array. To retain the old behavior, use either `df[df.columns[i]] = newvals` or, if columns are non-unique, `df.isetitem(i, newvals)`\n",
      "  d1.iloc[:,4] = le.fit_transform(d1.iloc[:,4]) # play\n"
     ]
    }
   ],
   "source": [
    "from sklearn.preprocessing import LabelEncoder\n",
    "le = LabelEncoder()\n",
    "d1.iloc[:,0] = le.fit_transform(d1.iloc[:,0]) # outlook column - index no. 0- will encode outlook column\n",
    "d1.iloc[:,1] = le.fit_transform(d1.iloc[:,1]) # temp\n",
    "d1.iloc[:,2] = le.fit_transform(d1.iloc[:,2]) # humidity\n",
    "d1.iloc[:,3] = le.fit_transform(d1.iloc[:,3]) # windy\n",
    "d1.iloc[:,4] = le.fit_transform(d1.iloc[:,4]) # play\n",
    "print(d1)\n",
    "d1.info()"
   ]
  },
  {
   "cell_type": "markdown",
   "id": "1136f39e",
   "metadata": {},
   "source": [
    "for i in range(5):\n",
    "    d1.iloc[:,i] = le.fit_transform(d1.iloc[:,i])"
   ]
  },
  {
   "cell_type": "code",
   "execution_count": 5,
   "id": "20d6878e",
   "metadata": {},
   "outputs": [
    {
     "name": "stdout",
     "output_type": "stream",
     "text": [
      "(14, 4)\n",
      "(14,)\n"
     ]
    }
   ],
   "source": [
    "x=d1.iloc[:,0:4]\n",
    "y=d1.iloc[:,4]\n",
    "print(x.shape)\n",
    "print(y.shape)"
   ]
  },
  {
   "cell_type": "code",
   "execution_count": 6,
   "id": "c5fe5e4c",
   "metadata": {},
   "outputs": [],
   "source": [
    "x_train,x_test,y_train,y_test=train_test_split(x,y,test_size=0.2,random_state=1)"
   ]
  },
  {
   "cell_type": "code",
   "execution_count": 7,
   "id": "e5f0219a",
   "metadata": {},
   "outputs": [
    {
     "name": "stdout",
     "output_type": "stream",
     "text": [
      "(11, 4)\n",
      "(11,)\n",
      "(3, 4)\n",
      "(3,)\n"
     ]
    }
   ],
   "source": [
    "print(x_train.shape)\n",
    "print(y_train.shape)\n",
    "print(x_test.shape)\n",
    "print(y_test.shape)"
   ]
  },
  {
   "cell_type": "code",
   "execution_count": 8,
   "id": "cddcb729",
   "metadata": {},
   "outputs": [],
   "source": [
    "rfclassifier=RandomForestClassifier()\n",
    "\n",
    "rfclassifier=rfclassifier.fit(x_train,y_train)\n",
    "y_pred=rfclassifier.predict(x_test)"
   ]
  },
  {
   "cell_type": "code",
   "execution_count": 9,
   "id": "e2352da2",
   "metadata": {},
   "outputs": [
    {
     "name": "stdout",
     "output_type": "stream",
     "text": [
      "Actual Values:\n",
      "3    1\n",
      "7    0\n",
      "6    1\n",
      "Name: play, dtype: int32\n",
      "Predicted values:\n",
      "[1 0 1]\n"
     ]
    }
   ],
   "source": [
    "print(\"Actual Values:\")\n",
    "print(y_test)\n",
    "print(\"Predicted values:\")\n",
    "print(y_pred)"
   ]
  },
  {
   "cell_type": "markdown",
   "id": "60d3ee78",
   "metadata": {},
   "source": [
    "# Model Evaluation"
   ]
  },
  {
   "cell_type": "code",
   "execution_count": 12,
   "id": "8c20aae2",
   "metadata": {},
   "outputs": [
    {
     "name": "stdout",
     "output_type": "stream",
     "text": [
      "accuracy 1.0\n"
     ]
    }
   ],
   "source": [
    "print(\"accuracy\",metrics.accuracy_score(y_test,y_pred))"
   ]
  },
  {
   "cell_type": "code",
   "execution_count": 13,
   "id": "ea4aa159",
   "metadata": {},
   "outputs": [],
   "source": [
    "cf=confusion_matrix(y_test,y_pred)"
   ]
  },
  {
   "cell_type": "code",
   "execution_count": 14,
   "id": "7e0f9e30",
   "metadata": {},
   "outputs": [
    {
     "name": "stdout",
     "output_type": "stream",
     "text": [
      "[[1 0]\n",
      " [0 2]]\n"
     ]
    }
   ],
   "source": [
    "print(cf)"
   ]
  },
  {
   "cell_type": "code",
   "execution_count": 15,
   "id": "8593b26c",
   "metadata": {},
   "outputs": [
    {
     "name": "stdout",
     "output_type": "stream",
     "text": [
      "              precision    recall  f1-score   support\n",
      "\n",
      "           0       1.00      1.00      1.00         1\n",
      "           1       1.00      1.00      1.00         2\n",
      "\n",
      "    accuracy                           1.00         3\n",
      "   macro avg       1.00      1.00      1.00         3\n",
      "weighted avg       1.00      1.00      1.00         3\n",
      "\n"
     ]
    }
   ],
   "source": [
    "print(classification_report(y_test,y_pred))"
   ]
  },
  {
   "cell_type": "code",
   "execution_count": null,
   "id": "6111a3be",
   "metadata": {},
   "outputs": [],
   "source": []
  },
  {
   "cell_type": "markdown",
   "id": "afd8e6ef",
   "metadata": {},
   "source": [
    "x[0]=outlook\n",
    "x[1]=temp\n",
    "x[2]=humidity\n",
    "x[3]=windy"
   ]
  }
 ],
 "metadata": {
  "kernelspec": {
   "display_name": "Python 3 (ipykernel)",
   "language": "python",
   "name": "python3"
  },
  "language_info": {
   "codemirror_mode": {
    "name": "ipython",
    "version": 3
   },
   "file_extension": ".py",
   "mimetype": "text/x-python",
   "name": "python",
   "nbconvert_exporter": "python",
   "pygments_lexer": "ipython3",
   "version": "3.12.4"
  }
 },
 "nbformat": 4,
 "nbformat_minor": 5
}
